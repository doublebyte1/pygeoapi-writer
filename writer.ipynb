{
 "cells": [
  {
   "cell_type": "code",
   "execution_count": 7,
   "id": "a9906ee1-334a-4909-98ad-271ecf876f9e",
   "metadata": {
    "jupyter": {
     "source_hidden": true
    }
   },
   "outputs": [
    {
     "name": "stdout",
     "output_type": "stream",
     "text": [
      "Collecting owslib\n",
      "  Using cached OWSLib-0.32.1-py2.py3-none-any.whl.metadata (6.6 kB)\n",
      "Collecting lxml (from owslib)\n",
      "  Downloading lxml-5.3.1-cp312-cp312-manylinux_2_28_x86_64.whl.metadata (3.7 kB)\n",
      "Requirement already satisfied: python-dateutil in /home/joana/git/pygeoapi-writer/lib/python3.12/site-packages (from owslib) (2.9.0.post0)\n",
      "Requirement already satisfied: pyyaml in /home/joana/git/pygeoapi-writer/lib/python3.12/site-packages (from owslib) (6.0.2)\n",
      "Requirement already satisfied: requests in /home/joana/git/pygeoapi-writer/lib/python3.12/site-packages (from owslib) (2.32.3)\n",
      "Requirement already satisfied: six>=1.5 in /home/joana/git/pygeoapi-writer/lib/python3.12/site-packages (from python-dateutil->owslib) (1.17.0)\n",
      "Requirement already satisfied: charset-normalizer<4,>=2 in /home/joana/git/pygeoapi-writer/lib/python3.12/site-packages (from requests->owslib) (3.4.1)\n",
      "Requirement already satisfied: idna<4,>=2.5 in /home/joana/git/pygeoapi-writer/lib/python3.12/site-packages (from requests->owslib) (3.10)\n",
      "Requirement already satisfied: urllib3<3,>=1.21.1 in /home/joana/git/pygeoapi-writer/lib/python3.12/site-packages (from requests->owslib) (2.3.0)\n",
      "Requirement already satisfied: certifi>=2017.4.17 in /home/joana/git/pygeoapi-writer/lib/python3.12/site-packages (from requests->owslib) (2025.1.31)\n",
      "Using cached OWSLib-0.32.1-py2.py3-none-any.whl (240 kB)\n",
      "Downloading lxml-5.3.1-cp312-cp312-manylinux_2_28_x86_64.whl (5.0 MB)\n",
      "\u001b[2K   \u001b[38;2;114;156;31m━━━━━━━━━━━━━━━━━━━━━━━━━━━━━━━━━━━━━━━━\u001b[0m \u001b[32m5.0/5.0 MB\u001b[0m \u001b[31m6.9 MB/s\u001b[0m eta \u001b[36m0:00:00\u001b[0mm eta \u001b[36m0:00:01\u001b[0m0:01\u001b[0m:01\u001b[0m\n",
      "Installing collected packages: lxml, owslib\n",
      "Successfully installed lxml-5.3.1 owslib-0.32.1\n"
     ]
    }
   ],
   "source": [
    "! pip install owslib"
   ]
  },
  {
   "cell_type": "code",
   "execution_count": 20,
   "id": "bbfaef3e-e77c-4c6d-bca5-0c754617c037",
   "metadata": {},
   "outputs": [
    {
     "name": "stdout",
     "output_type": "stream",
     "text": [
      "Collecting pandas\n",
      "  Using cached pandas-2.2.3-cp312-cp312-manylinux_2_17_x86_64.manylinux2014_x86_64.whl.metadata (89 kB)\n",
      "Collecting numpy>=1.26.0 (from pandas)\n",
      "  Downloading numpy-2.2.3-cp312-cp312-manylinux_2_17_x86_64.manylinux2014_x86_64.whl.metadata (62 kB)\n",
      "\u001b[2K     \u001b[38;2;114;156;31m━━━━━━━━━━━━━━━━━━━━━━━━━━━━━━━━━━━━━━━━\u001b[0m \u001b[32m62.0/62.0 kB\u001b[0m \u001b[31m2.4 MB/s\u001b[0m eta \u001b[36m0:00:00\u001b[0m\n",
      "Requirement already satisfied: python-dateutil>=2.8.2 in /home/joana/git/pygeoapi-writer/lib/python3.12/site-packages (from pandas) (2.9.0.post0)\n",
      "Collecting pytz>=2020.1 (from pandas)\n",
      "  Using cached pytz-2025.1-py2.py3-none-any.whl.metadata (22 kB)\n",
      "Collecting tzdata>=2022.7 (from pandas)\n",
      "  Using cached tzdata-2025.1-py2.py3-none-any.whl.metadata (1.4 kB)\n",
      "Requirement already satisfied: six>=1.5 in /home/joana/git/pygeoapi-writer/lib/python3.12/site-packages (from python-dateutil>=2.8.2->pandas) (1.17.0)\n",
      "Using cached pandas-2.2.3-cp312-cp312-manylinux_2_17_x86_64.manylinux2014_x86_64.whl (12.7 MB)\n",
      "Downloading numpy-2.2.3-cp312-cp312-manylinux_2_17_x86_64.manylinux2014_x86_64.whl (16.1 MB)\n",
      "\u001b[2K   \u001b[38;2;114;156;31m━━━━━━━━━━━━━━━━━━━━━━━━━━━━━━━━━━━━━━━━\u001b[0m \u001b[32m16.1/16.1 MB\u001b[0m \u001b[31m11.4 MB/s\u001b[0m eta \u001b[36m0:00:00\u001b[0mm eta \u001b[36m0:00:01\u001b[0m0:01\u001b[0m:01\u001b[0m\n",
      "\u001b[?25hUsing cached pytz-2025.1-py2.py3-none-any.whl (507 kB)\n",
      "Using cached tzdata-2025.1-py2.py3-none-any.whl (346 kB)\n",
      "Installing collected packages: pytz, tzdata, numpy, pandas\n",
      "Successfully installed numpy-2.2.3 pandas-2.2.3 pytz-2025.1 tzdata-2025.1\n"
     ]
    }
   ],
   "source": [
    "! pip install pandas"
   ]
  },
  {
   "cell_type": "code",
   "execution_count": 8,
   "id": "72f22a34-7909-4d18-a604-042365508e54",
   "metadata": {},
   "outputs": [],
   "source": [
    "from owslib.ogcapi.records import Records"
   ]
  },
  {
   "cell_type": "code",
   "execution_count": 9,
   "id": "875e915e-c556-4780-922b-8d40b4079780",
   "metadata": {},
   "outputs": [],
   "source": [
    "w = Records('https://emotional.byteroad.net/')"
   ]
  },
  {
   "cell_type": "code",
   "execution_count": 10,
   "id": "fd269de4-2cfc-4f26-8f30-eaa993d5db4c",
   "metadata": {},
   "outputs": [
    {
     "data": {
      "text/plain": [
       "'https://emotional.byteroad.net/'"
      ]
     },
     "execution_count": 10,
     "metadata": {},
     "output_type": "execute_result"
    }
   ],
   "source": [
    "w.url"
   ]
  },
  {
   "cell_type": "code",
   "execution_count": 11,
   "id": "1139e552-1d32-4fc4-be34-a80f78e2dc92",
   "metadata": {},
   "outputs": [],
   "source": [
    "collections = w.collections()"
   ]
  },
  {
   "cell_type": "code",
   "execution_count": 12,
   "id": "08546ec7-94cd-47a9-8bbc-1ca99b007327",
   "metadata": {},
   "outputs": [
    {
     "data": {
      "text/plain": [
       "2"
      ]
     },
     "execution_count": 12,
     "metadata": {},
     "output_type": "execute_result"
    }
   ],
   "source": [
    "len(collections)"
   ]
  },
  {
   "cell_type": "code",
   "execution_count": 13,
   "id": "e0ce83fd-91d4-4fa0-abe2-48f618c8cb99",
   "metadata": {},
   "outputs": [],
   "source": [
    "my_catalogue = w.collection('ec_catalog')"
   ]
  },
  {
   "cell_type": "code",
   "execution_count": 14,
   "id": "64fe0783-6241-41ec-9f83-5cbb125843d3",
   "metadata": {
    "scrolled": true
   },
   "outputs": [
    {
     "data": {
      "text/plain": [
       "'eMOTIONAL Cities Metadata catalog'"
      ]
     },
     "execution_count": 14,
     "metadata": {},
     "output_type": "execute_result"
    }
   ],
   "source": [
    "my_catalogue['title']"
   ]
  },
  {
   "cell_type": "code",
   "execution_count": 16,
   "id": "eb440358-2098-4674-9fbf-a1c596d1af52",
   "metadata": {},
   "outputs": [],
   "source": [
    "my_catalogue_query = w.collection_items('ec_catalog')"
   ]
  },
  {
   "cell_type": "code",
   "execution_count": 46,
   "id": "bd477b4c-1726-4db9-a050-11574721c821",
   "metadata": {},
   "outputs": [
    {
     "data": {
      "text/plain": [
       "dict_keys(['created', 'updated', 'type', 'title', 'description', 'keywords', 'language', 'themes', 'formats', 'contacts', 'license'])"
      ]
     },
     "execution_count": 46,
     "metadata": {},
     "output_type": "execute_result"
    }
   ],
   "source": [
    "my_catalogue_query['features'][1]['properties'].keys()"
   ]
  },
  {
   "cell_type": "code",
   "execution_count": 47,
   "id": "c973eb1b-8a56-4665-ad50-92c1a5ada9f8",
   "metadata": {},
   "outputs": [
    {
     "data": {
      "text/plain": [
       "'Prevalence rates of cardiovascular diseases in London'"
      ]
     },
     "execution_count": 47,
     "metadata": {},
     "output_type": "execute_result"
    }
   ],
   "source": [
    "my_catalogue_query['features'][1]['properties']['title']"
   ]
  },
  {
   "cell_type": "code",
   "execution_count": 23,
   "id": "e8357494-75c3-40de-aff3-65675181ae7a",
   "metadata": {},
   "outputs": [],
   "source": [
    "import json"
   ]
  },
  {
   "cell_type": "code",
   "execution_count": 34,
   "id": "39180f5a-9c99-4c41-b866-ce70d0a881cf",
   "metadata": {},
   "outputs": [],
   "source": [
    "with open('rec0.json') as f:\n",
    "    data = json.load(f)"
   ]
  },
  {
   "cell_type": "code",
   "execution_count": 35,
   "id": "82fe0763-e7f1-403f-9cd3-f44c832d2e0c",
   "metadata": {
    "scrolled": true
   },
   "outputs": [
    {
     "name": "stdout",
     "output_type": "stream",
     "text": [
      "{'lisbon_agudo_sub-oe109003_new': {'type': 'collection', 'title': 'Lisbon Outdoor Walk: Agudo Subject OE109003 NEW', 'description': 'Outdoor walk data collection. NEW', 'keywords': ['Lisbon', 'Outdoor', 'eMOTIONAL Cities', 'Walk', 'Microclimate', 'Biosignals'], 'links': [{'type': 'text/html', 'rel': 'canonical', 'title': 'metadata', 'href': 'https://emotional.byteroad.net/collections/ec_catalog/items/lisbon_agudo_sub-oe109003', 'hreflang': 'en-US'}], 'extents': {'spatial': {'bbox': [-9.131463396, 38.725226777, -9.122959145, 38.726977155], 'crs': 'http://www.opengis.net/def/crs/OGC/1.3/CRS84'}}, 'providers': [{'type': 'feature', 'name': 'Elasticsearch', 'data': 'http://elastic_search:9200/lisbon_agudo_sub-oe109003', 'id_field': 'id'}, {'type': 'tile', 'name': 'MVT-elastic', 'data': 'http://elastic_search:9200/lisbon_agudo_sub-oe109003/_mvt/geometry/{z}/{x}/{y}?grid_precision=0', 'options': {'zoom': {'min': 0, 'max': 29}}, 'format': {'name': 'pbf', 'mimetype': 'application/vnd.mapbox-vector-tile'}}]}}\n"
     ]
    }
   ],
   "source": [
    "print(data)"
   ]
  },
  {
   "cell_type": "code",
   "execution_count": null,
   "id": "57c86383-a1c4-427e-a1b6-a8852c9ebb21",
   "metadata": {},
   "outputs": [],
   "source": [
    "# Initialize new collection"
   ]
  },
  {
   "cell_type": "code",
   "execution_count": 101,
   "id": "a9e29d41-3b60-47c4-8535-f87741cb6f39",
   "metadata": {},
   "outputs": [],
   "source": [
    "new_data = {}"
   ]
  },
  {
   "cell_type": "code",
   "execution_count": 102,
   "id": "d7dc6157-460e-4bfa-a258-a0eaf63366cb",
   "metadata": {},
   "outputs": [],
   "source": [
    "name = 'lisbon_agudo_sub-oe109003'"
   ]
  },
  {
   "cell_type": "code",
   "execution_count": 103,
   "id": "e92a5527-d7c6-4669-989a-e50aa82db778",
   "metadata": {},
   "outputs": [
    {
     "name": "stdout",
     "output_type": "stream",
     "text": [
      "{}\n"
     ]
    }
   ],
   "source": [
    "print(new_data)"
   ]
  },
  {
   "cell_type": "code",
   "execution_count": 104,
   "id": "df39ab9d-b613-455f-9e14-b0b72e02871d",
   "metadata": {},
   "outputs": [],
   "source": [
    "new_data[name]= data['lisbon_agudo_sub-oe109003_new']"
   ]
  },
  {
   "cell_type": "code",
   "execution_count": 105,
   "id": "cd645290-f3b0-4057-8f3d-3f0a464b8414",
   "metadata": {},
   "outputs": [
    {
     "name": "stdout",
     "output_type": "stream",
     "text": [
      "{'lisbon_agudo_sub-oe109003': {'type': 'collection', 'title': 'Prevalence rates of cardiovascular diseases in London', 'description': 'The mapping results of urban health outcomes (Prevalence rates of cardiovascular diseases) in 350m hexagonal grids of Inner London', 'keywords': ['urban health', 'health outcomes', 'physical health', 'urban health mapping', 'inner london', ''], 'links': [{'type': 'text/html', 'rel': 'canonical', 'title': 'metadata', 'href': 'https://emotional.byteroad.net/collections/ec_catalog/items/new_col', 'hreflang': 'en-US'}], 'extents': {'spatial': {'bbox': [-0.260765354541958, 51.409628133733456, 0.126720196946648, 51.58003067802845], 'crs': 'http://www.opengis.net/def/crs/OGC/1.3/CRS84'}}, 'providers': [{'type': 'feature', 'name': 'Elasticsearch', 'data': 'http://elastic_search:9200/new_col', 'id_field': 'fid'}, {'type': 'tile', 'name': 'MVT-elastic', 'data': 'http://elastic_search:9200/new_col/_mvt/geometry/{z}/{x}/{y}?grid_precision=0', 'options': {'zoom': {'min': 0, 'max': 29}}, 'format': {'name': 'pbf', 'mimetype': 'application/vnd.mapbox-vector-tile'}}]}}\n"
     ]
    }
   ],
   "source": [
    "print(new_data)"
   ]
  },
  {
   "cell_type": "code",
   "execution_count": 106,
   "id": "03a684ec-7560-46ef-8b36-3032787bcd84",
   "metadata": {},
   "outputs": [
    {
     "name": "stdout",
     "output_type": "stream",
     "text": [
      "{\n",
      "  \"lisbon_agudo_sub-oe109003\": {\n",
      "    \"type\": \"collection\",\n",
      "    \"title\": \"Prevalence rates of cardiovascular diseases in London\",\n",
      "    \"description\": \"The mapping results of urban health outcomes (Prevalence rates of cardiovascular diseases) in 350m hexagonal grids of Inner London\",\n",
      "    \"keywords\": [\n",
      "      \"urban health\",\n",
      "      \"health outcomes\",\n",
      "      \"physical health\",\n",
      "      \"urban health mapping\",\n",
      "      \"inner london\",\n",
      "      \"\"\n",
      "    ],\n",
      "    \"links\": [\n",
      "      {\n",
      "        \"type\": \"text/html\",\n",
      "        \"rel\": \"canonical\",\n",
      "        \"title\": \"metadata\",\n",
      "        \"href\": \"https://emotional.byteroad.net/collections/ec_catalog/items/new_col\",\n",
      "        \"hreflang\": \"en-US\"\n",
      "      }\n",
      "    ],\n",
      "    \"extents\": {\n",
      "      \"spatial\": {\n",
      "        \"bbox\": [\n",
      "          -0.260765354541958,\n",
      "          51.409628133733456,\n",
      "          0.126720196946648,\n",
      "          51.58003067802845\n",
      "        ],\n",
      "        \"crs\": \"http://www.opengis.net/def/crs/OGC/1.3/CRS84\"\n",
      "      }\n",
      "    },\n",
      "    \"providers\": [\n",
      "      {\n",
      "        \"type\": \"feature\",\n",
      "        \"name\": \"Elasticsearch\",\n",
      "        \"data\": \"http://elastic_search:9200/new_col\",\n",
      "        \"id_field\": \"fid\"\n",
      "      },\n",
      "      {\n",
      "        \"type\": \"tile\",\n",
      "        \"name\": \"MVT-elastic\",\n",
      "        \"data\": \"http://elastic_search:9200/new_col/_mvt/geometry/{z}/{x}/{y}?grid_precision=0\",\n",
      "        \"options\": {\n",
      "          \"zoom\": {\n",
      "            \"min\": 0,\n",
      "            \"max\": 29\n",
      "          }\n",
      "        },\n",
      "        \"format\": {\n",
      "          \"name\": \"pbf\",\n",
      "          \"mimetype\": \"application/vnd.mapbox-vector-tile\"\n",
      "        }\n",
      "      }\n",
      "    ]\n",
      "  }\n",
      "}\n"
     ]
    }
   ],
   "source": [
    "json_formatted_str = json.dumps(new_data, indent=2)\n",
    "\n",
    "print(json_formatted_str)"
   ]
  },
  {
   "cell_type": "code",
   "execution_count": 112,
   "id": "93d698cc-cfe0-4d58-8951-ac7609a8fdf2",
   "metadata": {},
   "outputs": [
    {
     "name": "stdout",
     "output_type": "stream",
     "text": [
      "{'lisbon_agudo_sub-oe109003': {'type': 'collection', 'title': 'TESTTTTTTTTTTTTTTTTTTT', 'description': 'The mapping results of urban health outcomes (Prevalence rates of cardiovascular diseases) in 350m hexagonal grids of Inner London', 'keywords': ['urban health', 'health outcomes', 'physical health', 'urban health mapping', 'inner london', ''], 'links': [{'type': 'text/html', 'rel': 'canonical', 'title': 'metadata', 'href': 'https://emotional.byteroad.net/collections/ec_catalog/items/lisbon_agudo_sub-oe109003', 'hreflang': 'en-US'}], 'extents': {'spatial': {'bbox': [-0.260765354541958, 51.409628133733456, 0.126720196946648, 51.58003067802845], 'crs': 'http://www.opengis.net/def/crs/OGC/1.3/CRS84'}}, 'providers': [{'type': 'feature', 'name': 'Elasticsearch', 'data': 'http://elastic_search:9200/lisbon_agudo_sub-oe109003', 'id_field': 'fid'}, {'type': 'tile', 'name': 'MVT-elastic', 'data': 'http://elastic_search:9200/lisbon_agudo_sub-oe109003/_mvt/geometry/{z}/{x}/{y}?grid_precision=0', 'options': {'zoom': {'min': 0, 'max': 29}}, 'format': {'name': 'pbf', 'mimetype': 'application/vnd.mapbox-vector-tile'}}]}}\n"
     ]
    }
   ],
   "source": [
    "print(new_data)"
   ]
  },
  {
   "cell_type": "code",
   "execution_count": 111,
   "id": "bd85ab4c-3b98-4d65-b4d0-58b4d7a66d03",
   "metadata": {},
   "outputs": [],
   "source": [
    "new_data[name]['description'] = my_catalogue_query['features'][1]['properties']['description']\n",
    "#new_data[name]['title'] = my_catalogue_query['features'][1]['properties']['title']\n",
    "new_data[name]['title'] = 'TESTTTTTTTTTTTTTTTTTTT'\n",
    "new_data[name]['keywords'] = my_catalogue_query['features'][1]['properties']['keywords']\n",
    "new_data[name]['links'][0]['href'] = \"https://emotional.byteroad.net/collections/ec_catalog/items/\" + name\n",
    "new_data[name]['extents']['spatial']['bbox'] = [my_catalogue_query['features'][1]['geometry']['coordinates'][0][0][0],my_catalogue_query['features'][1]['geometry']['coordinates'][0][0][1],my_catalogue_query['features'][1]['geometry']['coordinates'][0][2][0],my_catalogue_query['features'][1]['geometry']['coordinates'][0][2][1]]\n",
    "new_data[name]['providers'][0]['data']= \"http://elastic_search:9200/\" + name\n",
    "new_data[name]['providers'][1]['data']= \"http://elastic_search:9200/\" + name + \"/_mvt/geometry/{z}/{x}/{y}?grid_precision=0\"\n",
    "new_data[name]['providers'][0]['id_field'] = gpd.read_file(my_catalogue_query['features'][1]['links'][4]['href']).columns[0]\n"
   ]
  },
  {
   "cell_type": "code",
   "execution_count": 110,
   "id": "f7dd3519-41a4-4e4f-87b2-e814ec6134b3",
   "metadata": {},
   "outputs": [
    {
     "name": "stdout",
     "output_type": "stream",
     "text": [
      "{'lisbon_agudo_sub-oe109003': {'type': 'collection', 'title': 'Prevalence rates of cardiovascular diseases in London', 'description': 'The mapping results of urban health outcomes (Prevalence rates of cardiovascular diseases) in 350m hexagonal grids of Inner London', 'keywords': ['urban health', 'health outcomes', 'physical health', 'urban health mapping', 'inner london', ''], 'links': [{'type': 'text/html', 'rel': 'canonical', 'title': 'metadata', 'href': 'https://emotional.byteroad.net/collections/ec_catalog/items/lisbon_agudo_sub-oe109003', 'hreflang': 'en-US'}], 'extents': {'spatial': {'bbox': [-0.260765354541958, 51.409628133733456, 0.126720196946648, 51.58003067802845], 'crs': 'http://www.opengis.net/def/crs/OGC/1.3/CRS84'}}, 'providers': [{'type': 'feature', 'name': 'Elasticsearch', 'data': 'http://elastic_search:9200/lisbon_agudo_sub-oe109003', 'id_field': 'fid'}, {'type': 'tile', 'name': 'MVT-elastic', 'data': 'http://elastic_search:9200/lisbon_agudo_sub-oe109003/_mvt/geometry/{z}/{x}/{y}?grid_precision=0', 'options': {'zoom': {'min': 0, 'max': 29}}, 'format': {'name': 'pbf', 'mimetype': 'application/vnd.mapbox-vector-tile'}}]}}\n"
     ]
    }
   ],
   "source": [
    "print(new_data)"
   ]
  },
  {
   "cell_type": "code",
   "execution_count": 76,
   "id": "f57df9ea-548c-4695-a005-7da169f375e7",
   "metadata": {},
   "outputs": [
    {
     "name": "stdout",
     "output_type": "stream",
     "text": [
      "Collecting geopandas\n",
      "  Using cached geopandas-1.0.1-py3-none-any.whl.metadata (2.2 kB)\n",
      "Requirement already satisfied: numpy>=1.22 in /home/joana/git/pygeoapi-writer/lib/python3.12/site-packages (from geopandas) (2.2.3)\n",
      "Collecting pyogrio>=0.7.2 (from geopandas)\n",
      "  Using cached pyogrio-0.10.0-cp312-cp312-manylinux_2_28_x86_64.whl.metadata (5.5 kB)\n",
      "Requirement already satisfied: packaging in /home/joana/git/pygeoapi-writer/lib/python3.12/site-packages (from geopandas) (24.2)\n",
      "Requirement already satisfied: pandas>=1.4.0 in /home/joana/git/pygeoapi-writer/lib/python3.12/site-packages (from geopandas) (2.2.3)\n",
      "Collecting pyproj>=3.3.0 (from geopandas)\n",
      "  Downloading pyproj-3.7.1-cp312-cp312-manylinux_2_17_x86_64.manylinux2014_x86_64.whl.metadata (31 kB)\n",
      "Collecting shapely>=2.0.0 (from geopandas)\n",
      "  Using cached shapely-2.0.7-cp312-cp312-manylinux_2_17_x86_64.manylinux2014_x86_64.whl.metadata (6.8 kB)\n",
      "Requirement already satisfied: python-dateutil>=2.8.2 in /home/joana/git/pygeoapi-writer/lib/python3.12/site-packages (from pandas>=1.4.0->geopandas) (2.9.0.post0)\n",
      "Requirement already satisfied: pytz>=2020.1 in /home/joana/git/pygeoapi-writer/lib/python3.12/site-packages (from pandas>=1.4.0->geopandas) (2025.1)\n",
      "Requirement already satisfied: tzdata>=2022.7 in /home/joana/git/pygeoapi-writer/lib/python3.12/site-packages (from pandas>=1.4.0->geopandas) (2025.1)\n",
      "Requirement already satisfied: certifi in /home/joana/git/pygeoapi-writer/lib/python3.12/site-packages (from pyogrio>=0.7.2->geopandas) (2025.1.31)\n",
      "Requirement already satisfied: six>=1.5 in /home/joana/git/pygeoapi-writer/lib/python3.12/site-packages (from python-dateutil>=2.8.2->pandas>=1.4.0->geopandas) (1.17.0)\n",
      "Using cached geopandas-1.0.1-py3-none-any.whl (323 kB)\n",
      "Using cached pyogrio-0.10.0-cp312-cp312-manylinux_2_28_x86_64.whl (24.0 MB)\n",
      "Downloading pyproj-3.7.1-cp312-cp312-manylinux_2_17_x86_64.manylinux2014_x86_64.whl (9.6 MB)\n",
      "\u001b[2K   \u001b[38;2;114;156;31m━━━━━━━━━━━━━━━━━━━━━━━━━━━━━━━━━━━━━━━━\u001b[0m \u001b[32m9.6/9.6 MB\u001b[0m \u001b[31m2.4 MB/s\u001b[0m eta \u001b[36m0:00:00\u001b[0mm eta \u001b[36m0:00:01\u001b[0m[36m0:00:01\u001b[0m\n",
      "\u001b[?25hUsing cached shapely-2.0.7-cp312-cp312-manylinux_2_17_x86_64.manylinux2014_x86_64.whl (2.5 MB)\n",
      "Installing collected packages: shapely, pyproj, pyogrio, geopandas\n",
      "Successfully installed geopandas-1.0.1 pyogrio-0.10.0 pyproj-3.7.1 shapely-2.0.7\n"
     ]
    }
   ],
   "source": [
    "!pip install geopandas"
   ]
  },
  {
   "cell_type": "code",
   "execution_count": 92,
   "id": "85a3fad7-2774-4d52-a345-3dfb7a2d834d",
   "metadata": {
    "scrolled": true
   },
   "outputs": [
    {
     "name": "stdout",
     "output_type": "stream",
     "text": [
      "Requirement already satisfied: requests in /home/joana/git/pygeoapi-writer/lib/python3.12/site-packages (2.32.3)\n",
      "Requirement already satisfied: charset-normalizer<4,>=2 in /home/joana/git/pygeoapi-writer/lib/python3.12/site-packages (from requests) (3.4.1)\n",
      "Requirement already satisfied: idna<4,>=2.5 in /home/joana/git/pygeoapi-writer/lib/python3.12/site-packages (from requests) (3.10)\n",
      "Requirement already satisfied: urllib3<3,>=1.21.1 in /home/joana/git/pygeoapi-writer/lib/python3.12/site-packages (from requests) (2.3.0)\n",
      "Requirement already satisfied: certifi>=2017.4.17 in /home/joana/git/pygeoapi-writer/lib/python3.12/site-packages (from requests) (2025.1.31)\n"
     ]
    }
   ],
   "source": [
    "!pip install requests"
   ]
  },
  {
   "cell_type": "code",
   "execution_count": 113,
   "id": "8f5b370f-feb7-43cb-b45e-7bf3628bb6a3",
   "metadata": {},
   "outputs": [],
   "source": [
    "test = {}\n",
    "test['test']= new_data['lisbon_agudo_sub-oe109003']"
   ]
  },
  {
   "cell_type": "code",
   "execution_count": 114,
   "id": "6d37a5f2-b95d-4da4-bb28-ebba3c69ee47",
   "metadata": {},
   "outputs": [
    {
     "name": "stdout",
     "output_type": "stream",
     "text": [
      "{'test': {'type': 'collection', 'title': 'TESTTTTTTTTTTTTTTTTTTT', 'description': 'The mapping results of urban health outcomes (Prevalence rates of cardiovascular diseases) in 350m hexagonal grids of Inner London', 'keywords': ['urban health', 'health outcomes', 'physical health', 'urban health mapping', 'inner london', ''], 'links': [{'type': 'text/html', 'rel': 'canonical', 'title': 'metadata', 'href': 'https://emotional.byteroad.net/collections/ec_catalog/items/lisbon_agudo_sub-oe109003', 'hreflang': 'en-US'}], 'extents': {'spatial': {'bbox': [-0.260765354541958, 51.409628133733456, 0.126720196946648, 51.58003067802845], 'crs': 'http://www.opengis.net/def/crs/OGC/1.3/CRS84'}}, 'providers': [{'type': 'feature', 'name': 'Elasticsearch', 'data': 'http://elastic_search:9200/lisbon_agudo_sub-oe109003', 'id_field': 'fid'}, {'type': 'tile', 'name': 'MVT-elastic', 'data': 'http://elastic_search:9200/lisbon_agudo_sub-oe109003/_mvt/geometry/{z}/{x}/{y}?grid_precision=0', 'options': {'zoom': {'min': 0, 'max': 29}}, 'format': {'name': 'pbf', 'mimetype': 'application/vnd.mapbox-vector-tile'}}]}}\n"
     ]
    }
   ],
   "source": [
    "print(test)"
   ]
  },
  {
   "cell_type": "code",
   "execution_count": null,
   "id": "3974ffcc-61c4-456d-9b94-dc29e005c543",
   "metadata": {},
   "outputs": [],
   "source": [
    "import requests\n",
    "\n",
    "# defining the api-endpoint\n",
    "API_ENDPOINT = \"http://localhost/admin/config/resources\"\n",
    "r = requests.post(url=API_ENDPOINT, json=test)\n",
    "\n",
    "print(\"Status Code\", r.status_code)\n",
    "#print(\"JSON Response \", r.json())"
   ]
  },
  {
   "cell_type": "markdown",
   "id": "6f5a5109-d56b-4ebe-8288-08cab1f05030",
   "metadata": {},
   "source": [
    "# START HERE"
   ]
  },
  {
   "cell_type": "code",
   "execution_count": 144,
   "id": "7907d470-c240-4ef0-b9ac-d1c2bd02a2a9",
   "metadata": {},
   "outputs": [],
   "source": [
    "from owslib.ogcapi.records import Records"
   ]
  },
  {
   "cell_type": "code",
   "execution_count": 207,
   "id": "f522a2a8-693a-4ab9-9c2d-c7739ca3c093",
   "metadata": {},
   "outputs": [],
   "source": [
    "import requests\n",
    "\n",
    "# defining the api-endpoint\n",
    "API_ENDPOINT = \"http://localhost/admin/config/resources\"\n",
    "headers = {\"Content-Type\": \"application/json; accept: */*\"}"
   ]
  },
  {
   "cell_type": "code",
   "execution_count": 208,
   "id": "ef06029a-4077-473a-b367-97c865f52b8d",
   "metadata": {},
   "outputs": [],
   "source": [
    "import json"
   ]
  },
  {
   "cell_type": "code",
   "execution_count": 209,
   "id": "c1e16138-f504-4585-8b14-d81cfcb01bd0",
   "metadata": {},
   "outputs": [],
   "source": [
    "with open('rec0.json') as f:\n",
    "    data = json.load(f)"
   ]
  },
  {
   "cell_type": "code",
   "execution_count": 210,
   "id": "226c2523-91cc-4462-951a-0660446a278a",
   "metadata": {},
   "outputs": [],
   "source": [
    "w = Records('https://emotional.byteroad.net/')\n",
    "collections = w.collections()\n",
    "my_catalogue = w.collection('ec_catalog')"
   ]
  },
  {
   "cell_type": "code",
   "execution_count": 211,
   "id": "a003d1de-396e-42b6-8856-2d19996781a9",
   "metadata": {},
   "outputs": [],
   "source": [
    "my_catalogue_query = w.collection_items('ec_catalog', limit=500)"
   ]
  },
  {
   "cell_type": "code",
   "execution_count": 212,
   "id": "6da739de-4fd9-47c4-aa6d-c5ff6466373e",
   "metadata": {
    "scrolled": true
   },
   "outputs": [
    {
     "data": {
      "text/plain": [
       "113"
      ]
     },
     "execution_count": 212,
     "metadata": {},
     "output_type": "execute_result"
    }
   ],
   "source": [
    "len(my_catalogue_query['features'])"
   ]
  },
  {
   "cell_type": "code",
   "execution_count": 215,
   "id": "56a36d4a-c1da-4384-8318-357742a65682",
   "metadata": {},
   "outputs": [],
   "source": [
    "import copy\n",
    "import time"
   ]
  },
  {
   "cell_type": "code",
   "execution_count": 216,
   "id": "017d7ba3-e7c2-483f-9d7e-17fcf88fe93b",
   "metadata": {},
   "outputs": [
    {
     "name": "stdout",
     "output_type": "stream",
     "text": [
      "Adding hex350_grid_cardio_1920 collection...\n",
      "Status Code 201\n",
      "Adding hex350_grid_obesity_1920 collection...\n",
      "Status Code 201\n",
      "Adding hex350_grid_depression_1920 collection...\n",
      "Status Code 201\n",
      "Adding hex350_grid_mental_1920 collection...\n",
      "Status Code 201\n",
      "Adding hex350_grid_demantia_1920 collection...\n",
      "Status Code 201\n",
      "Adding hex350_grid_access2openspace collection...\n",
      "Status Code 201\n",
      "Adding hex350_grid_ndvi2022 collection...\n",
      "Status Code 201\n",
      "Adding hex350_grid_pm25_2019 collection...\n",
      "Status Code 201\n",
      "Adding hex350_grid_pm10_2019 collection...\n",
      "Status Code 201\n",
      "Adding hex350_grid_no2_2019 collection...\n",
      "Status Code 201\n",
      "Adding hex350_grid_laeq16h collection...\n",
      "Status Code 201\n",
      "Adding hex350_grid_flood_4band collection...\n",
      "Status Code 201\n",
      "Adding hex350_grid_avglst collection...\n",
      "Status Code 201\n",
      "Adding hex350_grid_cycleroutes2021 collection...\n",
      "Status Code 201\n",
      "Adding hex350_grid_hindex2020 collection...\n",
      "Status Code 201\n",
      "Adding hex350_grid_popden_2020 collection...\n",
      "Status Code 201\n",
      "Adding hex350_grid_gender2020 collection...\n",
      "Status Code 201\n",
      "Adding hex350_grid_age2020 collection...\n",
      "Status Code 201\n",
      "Adding hex350_grid_active2020 collection...\n",
      "Status Code 201\n",
      "Adding hex350_grid_crime_22 collection...\n",
      "Status Code 201\n",
      "Adding tl_rd22_26_bg collection...\n",
      "Status Code 201\n",
      "Adding lansing_city_block_group_genderratio_mtow_2017_21 collection...\n",
      "Status Code 201\n",
      "Adding lansing_city_census_tracts_numberofpeopleaged65andabove_2020 collection...\n",
      "Status Code 201\n",
      "Adding lansing_city_block_group_percapitaincome_2020 collection...\n",
      "Status Code 201\n",
      "Adding lansing_city_blockgroup_areadeprivationindex_statescore_2020 collection...\n",
      "Status Code 201\n",
      "Adding lansing_city_census_tracts_disability_2017_21 collection...\n",
      "Status Code 201\n",
      "Adding lansing_city_census_tracts_peopleagedabove5disability collection...\n",
      "Status Code 201\n",
      "Adding lansing_city_census_tracts_depression collection...\n",
      "Status Code 201\n",
      "Adding lansing_chronicobstructivepulmonarydiseaseageabove18yrs_2019_cdc collection...\n"
     ]
    },
    {
     "name": "stderr",
     "output_type": "stream",
     "text": [
      "/home/joana/git/pygeoapi-writer/lib/python3.12/site-packages/pyogrio/raw.py:198: RuntimeWarning: Several features with id = 28 have been found. Altering it to be unique. This warning will not be emitted anymore for this layer\n",
      "  return ogr_read(\n"
     ]
    },
    {
     "name": "stdout",
     "output_type": "stream",
     "text": [
      "Status Code 201\n",
      "Adding lansing_coronaryheartdiseaseageabove18yrs_2019_cdc collection...\n"
     ]
    },
    {
     "name": "stderr",
     "output_type": "stream",
     "text": [
      "/home/joana/git/pygeoapi-writer/lib/python3.12/site-packages/pyogrio/raw.py:198: RuntimeWarning: Several features with id = 28 have been found. Altering it to be unique. This warning will not be emitted anymore for this layer\n",
      "  return ogr_read(\n"
     ]
    },
    {
     "name": "stdout",
     "output_type": "stream",
     "text": [
      "Status Code 201\n",
      "Adding lansing_currentasthmaageabove18yrs_2019_cdc collection...\n"
     ]
    },
    {
     "name": "stderr",
     "output_type": "stream",
     "text": [
      "/home/joana/git/pygeoapi-writer/lib/python3.12/site-packages/pyogrio/raw.py:198: RuntimeWarning: Several features with id = 28 have been found. Altering it to be unique. This warning will not be emitted anymore for this layer\n",
      "  return ogr_read(\n"
     ]
    },
    {
     "name": "stdout",
     "output_type": "stream",
     "text": [
      "Status Code 201\n",
      "Adding lansing_highbpageabove18yrs_2019_cdc collection...\n"
     ]
    },
    {
     "name": "stderr",
     "output_type": "stream",
     "text": [
      "/home/joana/git/pygeoapi-writer/lib/python3.12/site-packages/pyogrio/raw.py:198: RuntimeWarning: Several features with id = 28 have been found. Altering it to be unique. This warning will not be emitted anymore for this layer\n",
      "  return ogr_read(\n"
     ]
    },
    {
     "name": "stdout",
     "output_type": "stream",
     "text": [
      "Status Code 201\n",
      "Adding lansing_strokeageabove18yrs_2019_cdc collection...\n"
     ]
    },
    {
     "name": "stderr",
     "output_type": "stream",
     "text": [
      "/home/joana/git/pygeoapi-writer/lib/python3.12/site-packages/pyogrio/raw.py:198: RuntimeWarning: Several features with id = 28 have been found. Altering it to be unique. This warning will not be emitted anymore for this layer\n",
      "  return ogr_read(\n"
     ]
    },
    {
     "name": "stdout",
     "output_type": "stream",
     "text": [
      "Status Code 201\n",
      "Adding lansing_diabetesageabove18yrs_2019_cdc collection...\n"
     ]
    },
    {
     "name": "stderr",
     "output_type": "stream",
     "text": [
      "/home/joana/git/pygeoapi-writer/lib/python3.12/site-packages/pyogrio/raw.py:198: RuntimeWarning: Several features with id = 28 have been found. Altering it to be unique. This warning will not be emitted anymore for this layer\n",
      "  return ogr_read(\n"
     ]
    },
    {
     "name": "stdout",
     "output_type": "stream",
     "text": [
      "Status Code 201\n",
      "Adding lansing_obesityageabove18yrs_2019_cdc collection...\n"
     ]
    },
    {
     "name": "stderr",
     "output_type": "stream",
     "text": [
      "/home/joana/git/pygeoapi-writer/lib/python3.12/site-packages/pyogrio/raw.py:198: RuntimeWarning: Several features with id = 28 have been found. Altering it to be unique. This warning will not be emitted anymore for this layer\n",
      "  return ogr_read(\n"
     ]
    },
    {
     "name": "stdout",
     "output_type": "stream",
     "text": [
      "Status Code 201\n",
      "Adding lansing_physicalhealthnotgoodageabove18yrs_2019_cdc collection...\n"
     ]
    },
    {
     "name": "stderr",
     "output_type": "stream",
     "text": [
      "/home/joana/git/pygeoapi-writer/lib/python3.12/site-packages/pyogrio/raw.py:198: RuntimeWarning: Several features with id = 28 have been found. Altering it to be unique. This warning will not be emitted anymore for this layer\n",
      "  return ogr_read(\n"
     ]
    },
    {
     "name": "stdout",
     "output_type": "stream",
     "text": [
      "Status Code 201\n",
      "Adding lansing_noleisuretimepaageabove18yrs_2019_cdc collection...\n"
     ]
    },
    {
     "name": "stderr",
     "output_type": "stream",
     "text": [
      "/home/joana/git/pygeoapi-writer/lib/python3.12/site-packages/pyogrio/raw.py:198: RuntimeWarning: Several features with id = 28 have been found. Altering it to be unique. This warning will not be emitted anymore for this layer\n",
      "  return ogr_read(\n"
     ]
    },
    {
     "name": "stdout",
     "output_type": "stream",
     "text": [
      "Status Code 201\n",
      "Adding lansing_city_census_tracts_lifeexpectancyatbirth_10_15 collection...\n",
      "Status Code 201\n",
      "Adding lansing_city_block_group_nationalwalkabilityindex_2021 collection...\n",
      "Status Code 201\n",
      "Adding lansing_city_census_tracts_lowaccesstofood collection...\n",
      "Status Code 201\n",
      "Adding lansing_city_census_tracts_lowincomelowaccess collection...\n",
      "Status Code 201\n",
      "Adding lansing_city_census_tracts_numberofpeoplebiketowork_2020 collection...\n",
      "Status Code 201\n",
      "Adding lansing_city_census_tracts_traveltimetowork_17_21 collection...\n",
      "Status Code 201\n",
      "Adding lisbon_life_births_rate collection...\n",
      "Status Code 201\n",
      "Adding lisbon_mortality_rate collection...\n",
      "Status Code 201\n",
      "Adding lisbon_patients_diabetes_mellitus collection...\n",
      "Status Code 201\n",
      "Adding lisbon_patients_chronic_alcohol_abuse collection...\n",
      "Status Code 201\n",
      "Adding lisbon_patients_tobacco_abuse collection...\n",
      "Status Code 201\n",
      "Adding lisbon_patients_obesity collection...\n",
      "Status Code 201\n",
      "Adding lisbon_patients_hypertension collection...\n",
      "Status Code 201\n",
      "Adding lisbon_patients_dementia collection...\n",
      "Status Code 201\n",
      "Adding lisbon_positive_tweets_density collection...\n",
      "Status Code 201\n",
      "Adding lisbon_unemployed_people_ratio collection...\n",
      "Status Code 201\n",
      "Adding lisbon_low_literacy_level_ratio collection...\n",
      "Status Code 201\n",
      "Adding lisbon_population_density collection...\n",
      "Status Code 201\n",
      "Adding lisbon_gender_ratio collection...\n",
      "Status Code 201\n",
      "Adding lisbon_youth_people_ratio collection...\n",
      "Status Code 201\n",
      "Adding lisbon_elderly_people_ratio collection...\n",
      "Status Code 201\n",
      "Adding lisbon_average_age_buildings collection...\n",
      "Status Code 201\n",
      "Adding lisbon_building_repair_needs_ratio collection...\n",
      "Status Code 201\n",
      "Adding lisbon_walkability collection...\n",
      "Status Code 201\n",
      "Adding lisbon_altimetry collection...\n",
      "Status Code 201\n",
      "Adding lisbon_beds_tourist_accomodations collection...\n",
      "Status Code 201\n",
      "Adding lisbon_fast_food_outlets_density collection...\n",
      "Status Code 201\n",
      "Adding lisbon_ndvi collection...\n",
      "Status Code 201\n",
      "Adding lisbon_noise collection...\n",
      "Status Code 201\n",
      "Adding lisbon_pm2_5 collection...\n",
      "Status Code 201\n",
      "Adding lisbon_temperature collection...\n",
      "Status Code 503\n",
      "Adding lisbon_vulnerability_excessive_heat collection...\n",
      "Status Code 503\n",
      "Adding lisbon_vulnerability_flash_floods collection...\n",
      "Status Code 503\n",
      "Adding lisbon_no2 collection...\n",
      "Status Code 503\n",
      "Adding lisbon_distance_green_spaces collection...\n",
      "Status Code 503\n",
      "Adding lisbon_patients_anxiety_disorder collection...\n",
      "Status Code 503\n",
      "Adding lisbon_patients_depressive_disorder collection...\n",
      "Status Code 503\n",
      "Adding lisbon_vibrancy_index collection...\n",
      "Status Code 503\n",
      "Adding air_pollution_wzones collection...\n",
      "Status Code 503\n",
      "Adding dst_2012_wzones collection...\n",
      "Status Code 503\n",
      "Adding dst_2013_wzones collection...\n",
      "Status Code 503\n",
      "Adding dst_2014_wzones collection...\n",
      "Status Code 503\n",
      "Adding dst_2015_wzones collection...\n",
      "Status Code 503\n",
      "Adding dst_2016_wzones collection...\n",
      "Status Code 503\n",
      "Adding dst_2017_wzones collection...\n",
      "Status Code 503\n",
      "Adding dst_2018_wzones collection...\n",
      "Status Code 503\n",
      "Adding zones collection...\n",
      "Status Code 503\n",
      "Adding landuse_poi_wzones collection...\n",
      "Status Code 503\n",
      "Adding noise_wzones collection...\n",
      "Status Code 503\n"
     ]
    }
   ],
   "source": [
    "for x in my_catalogue_query['features']:\n",
    "    name = x['id'].lower()\n",
    "    if len(x['links']) >= 8 and 'geojson' not in name and '500cities' not in name and name != 'ucr_2019' and name != 'lansing_blockgroup_pedestrianorientedroadnetworkdensity_2021' and name != 'lansing_blockgroup_multimodalroadnetworkdensity_2021' and name != 'lansing_censustracts_environmentalhealthindex_2015':\n",
    "        print('Adding ' + name + ' collection...')\n",
    "        new_data = {}\n",
    "        new_data[name]= copy.deepcopy(data['lisbon_agudo_sub-oe109003_new'])\n",
    "        new_data[name]['description'] = x['properties']['description']\n",
    "        new_data[name]['title'] = x['properties']['title']\n",
    "        new_data[name]['keywords'] = x['properties']['keywords']\n",
    "        new_data[name]['links'][0]['href'] = \"https://emotional.byteroad.net/collections/ec_catalog/items/\" + name\n",
    "        new_data[name]['extents']['spatial']['bbox'] = [x['geometry']['coordinates'][0][0][0],x['geometry']['coordinates'][0][0][1],x['geometry']['coordinates'][0][2][0],x['geometry']['coordinates'][0][2][1]]\n",
    "        new_data[name]['providers'][0]['data']= \"http://elastic_search:9200/\" + name\n",
    "        new_data[name]['providers'][1]['data']= \"http://elastic_search:9200/\" + name + \"/_mvt/geometry/{z}/{x}/{y}?grid_precision=0\"\n",
    "        new_data[name]['providers'][0]['id_field'] = gpd.read_file(x['links'][4]['href']).columns[0]\n",
    "        #print(new_data)\n",
    "        r = requests.post(url=API_ENDPOINT, json=new_data, headers=headers)\n",
    "        print(\"Status Code\", r.status_code)\n",
    "        #time.sleep(3)\n"
   ]
  },
  {
   "cell_type": "code",
   "execution_count": null,
   "id": "60e07a73-4145-4407-a7a3-0210861978c8",
   "metadata": {},
   "outputs": [],
   "source": []
  }
 ],
 "metadata": {
  "kernelspec": {
   "display_name": "Python 3 (ipykernel)",
   "language": "python",
   "name": "python3"
  },
  "language_info": {
   "codemirror_mode": {
    "name": "ipython",
    "version": 3
   },
   "file_extension": ".py",
   "mimetype": "text/x-python",
   "name": "python",
   "nbconvert_exporter": "python",
   "pygments_lexer": "ipython3",
   "version": "3.12.3"
  }
 },
 "nbformat": 4,
 "nbformat_minor": 5
}
